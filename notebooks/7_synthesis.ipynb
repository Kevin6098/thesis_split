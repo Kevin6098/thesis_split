{
 "cells": [
  {
   "cell_type": "code",
   "execution_count": null,
   "id": "b97ce374",
   "metadata": {},
   "outputs": [
    {
     "ename": "",
     "evalue": "",
     "output_type": "error",
     "traceback": [
      "\u001b[1;31mFailed to start the Kernel. \n",
      "\u001b[1;31mUnable to start Kernel '.venv (Python 3.13.5)' due to a timeout waiting for the ports to get used. \n",
      "\u001b[1;31mView Jupyter <a href='command:jupyter.viewOutput'>log</a> for further details."
     ]
    }
   ],
   "source": [
    "# Cell 1: assemble summary DataFrame with theme, prevalences, delta, and quotes\n",
    "import pandas as pd\n",
    "import joblib\n",
    "from pathlib import Path\n",
    "\n",
    "proc_dir  = Path(\"data/processed\")\n",
    "model_dir = Path(\"models\")\n",
    "\n",
    "# (A) Topic themes\n",
    "topic_keywords = {\n",
    "    0: \"Cuisine & Prestige\",\n",
    "    1: \"Desire & Evaluation\",\n",
    "    2: \"Dessert & Comparisons\",\n",
    "    3: \"Queue & Wait Times\",\n",
    "    4: \"Awards & Hype\",\n",
    "    5: \"Reservation Frustration\",\n",
    "    6: \"Ambiance & Location\",\n",
    "    7: \"Menu Variety (Sushi)\"\n",
    "}\n",
    "\n",
    "# (B) Load prevalences from previous step (or recompute)\n",
    "# Recompute prevalences for both sets:\n",
    "prev = {}\n",
    "for slug in [\"high_rating\",\"most_commented\"]:\n",
    "    df2   = pd.read_parquet(proc_dir / f\"{slug}_with_clusters.parquet\")\n",
    "    lda2, vec2 = joblib.load(model_dir / f\"{slug}_lda.pkl\")\n",
    "    X2    = vec2.transform(df2[\"clean_joined\"])\n",
    "    dom   = lda2.transform(X2).argmax(axis=1)\n",
    "    prev[slug] = pd.Series(dom).value_counts(normalize=True).sort_index() * 100\n",
    "\n",
    "# (C) Collect 1–2 example quotes per topic (from high_rating)\n",
    "df_hr = pd.read_parquet(proc_dir/\"high_rating_with_clusters.parquet\")\n",
    "# reuse your examples dict from Cell 3, or re-generate quickly:\n",
    "from src.topic_inspection import _NEG_KEYWORDS\n",
    "quotes = {}\n",
    "for t in sorted(df_hr[\"dominant_topic\"].unique()):\n",
    "    sub = df_hr[df_hr[\"dominant_topic\"]==t].copy()\n",
    "    sub[\"hits\"] = sub[\"clean_joined\"].map(lambda txt: sum(kw in txt for kw in _NEG_KEYWORDS))\n",
    "    tops = sub.sort_values(\"hits\", ascending=False).head(2)[\"comment\"].tolist()\n",
    "    quotes[t] = \" / \".join(q[:100] + \"…\" for q in tops)\n",
    "\n",
    "# (D) Build the summary table\n",
    "rows = []\n",
    "for t in range(len(topic_keywords)):\n",
    "    hr = prev[\"high_rating\"].get(t, 0.0)\n",
    "    mc = prev[\"most_commented\"].get(t, 0.0)\n",
    "    rows.append({\n",
    "        \"Topic ID\": t,\n",
    "        \"Theme\": topic_keywords[t],\n",
    "        \"HighRating (%)\": round(hr,1),\n",
    "        \"MostCommented (%)\": round(mc,1),\n",
    "        \"Δ (%)\": round(hr - mc,1),\n",
    "        \"Example Quotes\": quotes.get(t, \"\")\n",
    "    })\n",
    "\n",
    "summary = pd.DataFrame(rows)\n",
    "summary = summary.sort_values(\"Δ (%)\", ascending=False)\n",
    "summary"
   ]
  },
  {
   "cell_type": "code",
   "execution_count": null,
   "id": "6b72565e",
   "metadata": {},
   "outputs": [],
   "source": [
    "# Cell 2a: save to CSV\n",
    "out_csv = proc_dir / \"topic_summary.csv\"\n",
    "summary.to_csv(out_csv, index=False)\n",
    "print(\"Saved summary CSV to\", out_csv)\n",
    "\n",
    "# Cell 2b: display as Markdown for copy-paste\n",
    "from IPython.display import Markdown\n",
    "md = summary.to_markdown(index=False)\n",
    "display(Markdown(md))"
   ]
  },
  {
   "cell_type": "code",
   "execution_count": null,
   "id": "9c00f2c6",
   "metadata": {},
   "outputs": [],
   "source": [
    "# Cell 3: horizontal bar chart of Δ (%)\n",
    "import matplotlib.pyplot as plt\n",
    "\n",
    "plt.figure(figsize=(8,5))\n",
    "plt.barh(summary[\"Theme\"], summary[\"Δ (%)\"], color=[\n",
    "    \"#2ca02c\" if d>0 else \"#d62728\" for d in summary[\"Δ (%)\"]\n",
    "])\n",
    "plt.axvline(0, color=\"black\", linewidth=0.8)\n",
    "plt.title(\"High-Rating vs Most-Commented Δ by Topic\")\n",
    "plt.xlabel(\"Δ = HighRating – MostCommented (%)\")\n",
    "plt.tight_layout()\n",
    "plt.show()"
   ]
  }
 ],
 "metadata": {
  "kernelspec": {
   "display_name": ".venv",
   "language": "python",
   "name": "python3"
  },
  "language_info": {
   "name": "python",
   "version": "3.13.5"
  }
 },
 "nbformat": 4,
 "nbformat_minor": 5
}
