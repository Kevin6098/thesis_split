{
 "cells": [
  {
   "cell_type": "code",
   "execution_count": null,
   "id": "9256bcf8",
   "metadata": {},
   "outputs": [],
   "source": [
    "import pandas as pd\n",
    "import seaborn as sns\n",
    "import matplotlib.pyplot as plt\n",
    "from pathlib import Path\n",
    "\n",
    "# ノートブック用にグラフをインライン表示\n",
    "%matplotlib inline"
   ]
  },
  {
   "cell_type": "code",
   "execution_count": null,
   "id": "f60ae931",
   "metadata": {},
   "outputs": [],
   "source": [
    "proc_dir = Path(\"../data/processed\")          # notebooks フォルダの一段上\n",
    "df = pd.read_parquet(proc_dir / \"most_commented_with_clusters.parquet\")\n",
    "\n",
    "# 簡単に確認\n",
    "print(df[[\"cluster\", \"dominant_topic\"]].head())"
   ]
  },
  {
   "cell_type": "code",
   "execution_count": null,
   "id": "a0d5cf4d",
   "metadata": {},
   "outputs": [],
   "source": [
    "# 行：cluster、列：dominant_topic\n",
    "ct = pd.crosstab(\n",
    "    df[\"cluster\"],\n",
    "    df[\"dominant_topic\"],\n",
    "    normalize=\"index\"   # 行内で割合にする\n",
    ").round(2)              # 少数 2 桁\n",
    "\n",
    "plt.figure(figsize=(8, 6))\n",
    "sns.heatmap(ct, annot=True, cmap=\"Blues\", fmt=\".2f\",\n",
    "            cbar_kws={\"label\": \"Proportion\"})\n",
    "plt.xlabel(\"LDA Topic ID\")\n",
    "plt.ylabel(\"K-means Cluster ID\")\n",
    "plt.title(\"Cluster × Topic Distribution\")\n",
    "plt.tight_layout()\n",
    "plt.show()"
   ]
  },
  {
   "cell_type": "code",
   "execution_count": null,
   "id": "cbec67c4",
   "metadata": {},
   "outputs": [],
   "source": [
    "plt.savefig(\"cluster_topic_heatmap.png\", dpi=300)\n",
    "print(\"✅ 保存しました → cluster_topic_heatmap.png\")"
   ]
  }
 ],
 "metadata": {
  "kernelspec": {
   "display_name": ".venv",
   "language": "python",
   "name": "python3"
  },
  "language_info": {
   "name": "python",
   "version": "3.13.5"
  }
 },
 "nbformat": 4,
 "nbformat_minor": 5
}
